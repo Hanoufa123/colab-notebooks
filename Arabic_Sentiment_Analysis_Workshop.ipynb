{
  "cells": [
    {
      "cell_type": "markdown",
      "metadata": {
        "id": "view-in-github",
        "colab_type": "text"
      },
      "source": [
        "<a href=\"https://colab.research.google.com/github/Hanoufa123/colab-notebooks/blob/main/Arabic_Sentiment_Analysis_Workshop.ipynb\" target=\"_parent\"><img src=\"https://colab.research.google.com/assets/colab-badge.svg\" alt=\"Open In Colab\"/></a>"
      ]
    },
    {
      "cell_type": "markdown",
      "id": "b4555bfd",
      "metadata": {
        "id": "b4555bfd"
      },
      "source": [
        "#  تحليل آراء المشاركات باستخدام نموذج CAMeL-BERT لتحليل المشاعر من Hugging Face"
      ]
    },
    {
      "cell_type": "markdown",
      "id": "f84edd13",
      "metadata": {
        "id": "f84edd13"
      },
      "source": [
        "\n",
        "##  ما هو تحليل المشاعر Sentiment Analysis؟\n",
        "تحليل المشاعر هو عملية استخدام الذكاء الاصطناعي لاكتشاف المشاعر (مثل إيجابي، سلبي، محايد) في نص معين. يمكن استخدامه لفهم آراء الناس حول منتج أو خدمة أو حتى دورة تدريبية.\n",
        "\n",
        "---\n",
        "\n",
        "## 🤖 ما هو نموذج CAMeL-BERT؟\n",
        "نموذج [CAMeL-Lab/bert-base-arabic-camelbert-mix-sentiment](https://huggingface.co/CAMeL-Lab/bert-base-arabic-camelbert-mix-sentiment) هو نموذج متقدم مدرّب على اللغة العربية لتحليل المشاعر، من إنتاج مختبر CAMeL-Lab في جامعة نيويورك أبوظبي. يعتمد على معمارية BERT الشهيرة، ومدرب على بيانات متنوعة تشمل اللهجات العربية والفصحى.\n",
        "\n"
      ]
    },
    {
      "cell_type": "markdown",
      "id": "akjoBQByvpCd",
      "metadata": {
        "id": "akjoBQByvpCd"
      },
      "source": [
        "#  تثبيت المكتبات المطلوبة -1"
      ]
    },
    {
      "cell_type": "code",
      "execution_count": null,
      "id": "930f08df",
      "metadata": {
        "colab": {
          "base_uri": "https://localhost:8080/"
        },
        "id": "930f08df",
        "outputId": "c09f79de-f086-4a40-9090-a51bfa76a62a"
      },
      "outputs": [
        {
          "name": "stdout",
          "output_type": "stream",
          "text": [
            "Collecting arabic_reshaper\n",
            "  Downloading arabic_reshaper-3.0.0-py3-none-any.whl.metadata (12 kB)\n",
            "Collecting python-bidi\n",
            "  Downloading python_bidi-0.6.6-cp311-cp311-manylinux_2_17_x86_64.manylinux2014_x86_64.whl.metadata (4.9 kB)\n",
            "Downloading arabic_reshaper-3.0.0-py3-none-any.whl (20 kB)\n",
            "Downloading python_bidi-0.6.6-cp311-cp311-manylinux_2_17_x86_64.manylinux2014_x86_64.whl (292 kB)\n",
            "\u001b[2K   \u001b[90m━━━━━━━━━━━━━━━━━━━━━━━━━━━━━━━━━━━━━━━━\u001b[0m \u001b[32m292.9/292.9 kB\u001b[0m \u001b[31m16.2 MB/s\u001b[0m eta \u001b[36m0:00:00\u001b[0m\n",
            "\u001b[?25hInstalling collected packages: python-bidi, arabic_reshaper\n",
            "Successfully installed arabic_reshaper-3.0.0 python-bidi-0.6.6\n"
          ]
        }
      ],
      "source": [
        "\n",
        "!pip install transformers --quiet  # مكتبة النماذج من Hugging Face\n",
        "!pip install arabic_reshaper python-bidi  # لدعم عرض النصوص العربية في الرسوم البيانية\n"
      ]
    },
    {
      "cell_type": "markdown",
      "id": "XeoPQdVGv4LA",
      "metadata": {
        "id": "XeoPQdVGv4LA"
      },
      "source": [
        "# 2- استيراد المكتبات"
      ]
    },
    {
      "cell_type": "code",
      "execution_count": null,
      "id": "deda37d7",
      "metadata": {
        "id": "deda37d7"
      },
      "outputs": [],
      "source": [
        "\n",
        "from transformers import pipeline  # لتحميل واستخدام نماذج تحليل المشاعر\n",
        "import pandas as pd  # لمعالجة البيانات\n",
        "import os  # للتعامل مع الملفات\n",
        "from google.colab import drive  # لربط Google Drive"
      ]
    },
    {
      "cell_type": "markdown",
      "id": "g-bzKvBJwMqO",
      "metadata": {
        "id": "g-bzKvBJwMqO"
      },
      "source": [
        "#3- الربط مع قوفل درايف لتخزين نتيجة التقييم\n",
        "ملاحظة:  لاتقومي بتشغيل  الخلية 3 و 4 اذا كان لايمكنك الربط مع google drive"
      ]
    },
    {
      "cell_type": "code",
      "execution_count": null,
      "id": "bfe7c14a",
      "metadata": {
        "colab": {
          "background_save": true
        },
        "id": "bfe7c14a",
        "outputId": "e02a338b-85ff-45be-f524-1de2ef8eabd6"
      },
      "outputs": [
        {
          "ename": "ValueError",
          "evalue": "mount failed",
          "output_type": "error",
          "traceback": [
            "\u001b[0;31m---------------------------------------------------------------------------\u001b[0m",
            "\u001b[0;31mValueError\u001b[0m                                Traceback (most recent call last)",
            "\u001b[0;32m/tmp/ipython-input-3-2400760376.py\u001b[0m in \u001b[0;36m<cell line: 0>\u001b[0;34m()\u001b[0m\n\u001b[1;32m      1\u001b[0m \u001b[0;31m#  ربط Google Drive\u001b[0m\u001b[0;34m\u001b[0m\u001b[0;34m\u001b[0m\u001b[0m\n\u001b[0;32m----> 2\u001b[0;31m \u001b[0mdrive\u001b[0m\u001b[0;34m.\u001b[0m\u001b[0mmount\u001b[0m\u001b[0;34m(\u001b[0m\u001b[0;34m'/content/drive'\u001b[0m\u001b[0;34m)\u001b[0m\u001b[0;34m\u001b[0m\u001b[0;34m\u001b[0m\u001b[0m\n\u001b[0m",
            "\u001b[0;32m/usr/local/lib/python3.11/dist-packages/google/colab/drive.py\u001b[0m in \u001b[0;36mmount\u001b[0;34m(mountpoint, force_remount, timeout_ms, readonly)\u001b[0m\n\u001b[1;32m     98\u001b[0m \u001b[0;32mdef\u001b[0m \u001b[0mmount\u001b[0m\u001b[0;34m(\u001b[0m\u001b[0mmountpoint\u001b[0m\u001b[0;34m,\u001b[0m \u001b[0mforce_remount\u001b[0m\u001b[0;34m=\u001b[0m\u001b[0;32mFalse\u001b[0m\u001b[0;34m,\u001b[0m \u001b[0mtimeout_ms\u001b[0m\u001b[0;34m=\u001b[0m\u001b[0;36m120000\u001b[0m\u001b[0;34m,\u001b[0m \u001b[0mreadonly\u001b[0m\u001b[0;34m=\u001b[0m\u001b[0;32mFalse\u001b[0m\u001b[0;34m)\u001b[0m\u001b[0;34m:\u001b[0m\u001b[0;34m\u001b[0m\u001b[0;34m\u001b[0m\u001b[0m\n\u001b[1;32m     99\u001b[0m   \u001b[0;34m\"\"\"Mount your Google Drive at the specified mountpoint path.\"\"\"\u001b[0m\u001b[0;34m\u001b[0m\u001b[0;34m\u001b[0m\u001b[0m\n\u001b[0;32m--> 100\u001b[0;31m   return _mount(\n\u001b[0m\u001b[1;32m    101\u001b[0m       \u001b[0mmountpoint\u001b[0m\u001b[0;34m,\u001b[0m\u001b[0;34m\u001b[0m\u001b[0;34m\u001b[0m\u001b[0m\n\u001b[1;32m    102\u001b[0m       \u001b[0mforce_remount\u001b[0m\u001b[0;34m=\u001b[0m\u001b[0mforce_remount\u001b[0m\u001b[0;34m,\u001b[0m\u001b[0;34m\u001b[0m\u001b[0;34m\u001b[0m\u001b[0m\n",
            "\u001b[0;32m/usr/local/lib/python3.11/dist-packages/google/colab/drive.py\u001b[0m in \u001b[0;36m_mount\u001b[0;34m(mountpoint, force_remount, timeout_ms, ephemeral, readonly)\u001b[0m\n\u001b[1;32m    275\u001b[0m             \u001b[0;34m'https://research.google.com/colaboratory/faq.html#drive-timeout'\u001b[0m\u001b[0;34m\u001b[0m\u001b[0;34m\u001b[0m\u001b[0m\n\u001b[1;32m    276\u001b[0m         )\n\u001b[0;32m--> 277\u001b[0;31m       \u001b[0;32mraise\u001b[0m \u001b[0mValueError\u001b[0m\u001b[0;34m(\u001b[0m\u001b[0;34m'mount failed'\u001b[0m \u001b[0;34m+\u001b[0m \u001b[0mextra_reason\u001b[0m\u001b[0;34m)\u001b[0m\u001b[0;34m\u001b[0m\u001b[0;34m\u001b[0m\u001b[0m\n\u001b[0m\u001b[1;32m    278\u001b[0m     \u001b[0;32melif\u001b[0m \u001b[0mcase\u001b[0m \u001b[0;34m==\u001b[0m \u001b[0;36m4\u001b[0m\u001b[0;34m:\u001b[0m\u001b[0;34m\u001b[0m\u001b[0;34m\u001b[0m\u001b[0m\n\u001b[1;32m    279\u001b[0m       \u001b[0;31m# Terminate the DriveFS binary before killing bash.\u001b[0m\u001b[0;34m\u001b[0m\u001b[0;34m\u001b[0m\u001b[0m\n",
            "\u001b[0;31mValueError\u001b[0m: mount failed"
          ]
        }
      ],
      "source": [
        "#  ربط Google Drive\n",
        "drive.mount('/content/drive')"
      ]
    },
    {
      "cell_type": "markdown",
      "id": "cykiUtWTxBRT",
      "metadata": {
        "id": "cykiUtWTxBRT"
      },
      "source": [
        "# 4- اعداد المسارات\n",
        "تأكدي من عمل اضافة اختصار لمسار مجلد دورة الكاء الاصطناعي في ملفات الدرايف الخاص بك\n",
        "\n",
        "لتنفيذ ذلك افتحي الرابط التالي\n",
        "1-(https://drive.google.com/drive/folders/1Z7HuHDxuEjDirWajt-uFCAtxurNDCn4E?usp=drive_link)\n",
        "\n",
        "2- بعد فتح المجلد، انقر بزر الماوس الأيمن على مجلد \"AI-Course\".\n",
        "\n",
        "3- اختر \"إضافة اختصار إلى Drive\".\n",
        "\n",
        "4-اختر مكان وضع الاختصار  (\"My Drive\").\n",
        "\n",
        "5-انقر على \"إضافة اختصار\".\n"
      ]
    },
    {
      "cell_type": "code",
      "execution_count": null,
      "id": "ba79d143",
      "metadata": {
        "id": "ba79d143"
      },
      "outputs": [],
      "source": [
        "\n",
        "folder_path = \"/content/drive/MyDrive/AI-Course\"\n",
        "csv_path = os.path.join(folder_path, \"opinions.csv\")"
      ]
    },
    {
      "cell_type": "markdown",
      "id": "DX7bh6Kj0xYE",
      "metadata": {
        "id": "DX7bh6Kj0xYE"
      },
      "source": [
        "# 5- استخدام النموذج"
      ]
    },
    {
      "cell_type": "code",
      "execution_count": null,
      "id": "fc1a4a3b",
      "metadata": {
        "id": "fc1a4a3b"
      },
      "outputs": [],
      "source": [
        "# تحميل نموذج تحليل المشاعر من Hugging Face\n",
        "model = pipeline(\"sentiment-analysis\", model=\"CAMeL-Lab/bert-base-arabic-camelbert-mix-sentiment\")\n",
        "\n",
        "#  إدخال رأي المشتركة\n",
        "name = input(\"raghad ,renad,jomana,wareef\")# TO DO    #Hint use input\n",
        "text =input(\"\")  #Hint use input\n",
        "\n",
        "#  تحليل الرأي\n",
        "result = model(text)[0]\n",
        "label = result[\"label\"]\n",
        "score = round(result[\"score\"] * 100, 2)\n",
        "\n",
        "# ترجمة التصنيف\n",
        "if label == \"negative\":\n",
        "    label_ar = \"سلبية\"\n",
        "elif label == \"positive\":\n",
        "    label_ar = \"إيجابية\"\n",
        "else:\n",
        "    label_ar = \"محايدة\"\n",
        "\n",
        "print(f\"الرأي: {label_ar}, النسبة: {score}%\")\n"
      ]
    },
    {
      "cell_type": "markdown",
      "id": "2YbBQf-a1D9t",
      "metadata": {
        "id": "2YbBQf-a1D9t"
      },
      "source": [
        "# 6- تخزين النتيجة في ملف مشترك"
      ]
    },
    {
      "cell_type": "code",
      "execution_count": null,
      "id": "Lvxwl-eStdjN",
      "metadata": {
        "id": "Lvxwl-eStdjN"
      },
      "outputs": [],
      "source": [
        "\n",
        "#  إعداد البيانات لتخزينها\n",
        "new_row = {\"الاسماء\": name, \"الاراء\": text, \"النتيجة\": label_ar, \"النسبة\": score}\n",
        "\n",
        "#  إضافة البيانات إلى CSV أو إنشاء الملف إن لم يكن موجودًا\n",
        "\n",
        "if os.path.exists(csv_path):\n",
        "    df = pd.read_csv(csv_path)\n",
        "else:\n",
        "    df = pd.DataFrame(columns=[\"الاسماء\", \"الاراء\", \"النتيجة\", \"النسبة\"])\n",
        "df = pd.concat([df, pd.DataFrame([new_row])], ignore_index=True)\n",
        "df.to_csv(csv_path, index=False)\n",
        "\n",
        "print(\" تم حفظ رأيك بنجاح في الملف المشترك.\")"
      ]
    },
    {
      "cell_type": "markdown",
      "id": "cyFT6z151R86",
      "metadata": {
        "id": "cyFT6z151R86"
      },
      "source": [
        "# 7- تصوير النتائج"
      ]
    },
    {
      "cell_type": "code",
      "execution_count": null,
      "id": "49cec46b",
      "metadata": {
        "id": "49cec46b"
      },
      "outputs": [],
      "source": [
        "#  عرض الرسوم البيانية لنتائج الآراء\n",
        "\n",
        "import matplotlib.pyplot as plt\n",
        "import arabic_reshaper\n",
        "from bidi.algorithm import get_display\n",
        "\n",
        "# قراءة البيانات\n",
        "df = pd.read_csv(csv_path)\n",
        "\n",
        "# إزالة التكرار حسب الاسم\n",
        "df_unique = df.drop_duplicates(subset=['الاسماء'])\n",
        "\n",
        "# حساب التكرار\n",
        "counts = df_unique['النتيجة'].value_counts()\n",
        "labels = [get_display(arabic_reshaper.reshape(label)) for label in counts.index]\n",
        "\n",
        "# تحديد الألوان\n",
        "color_map = {\n",
        "    get_display(arabic_reshaper.reshape(\"سلبية\")): 'red',\n",
        "    get_display(arabic_reshaper.reshape(\"إيجابية\")): 'green',\n",
        "    get_display(arabic_reshaper.reshape(\"محايدة\")): 'yellow'\n",
        "}\n",
        "bar_colors = [color_map[label] for label in labels]\n",
        "\n",
        "# رسم الأعمدة والدائرة\n",
        "fig, axes = plt.subplots(1, 2, figsize=(12, 5))\n",
        "\n",
        "# --- رسم الأعمدة ---\n",
        "bars = axes[0].bar(labels, counts.values, color=bar_colors)\n",
        "axes[0].set_title(get_display(arabic_reshaper.reshape(\"نتائج تحليل آراء الطالبات\")))\n",
        "axes[0].set_xlabel(get_display(arabic_reshaper.reshape(\"الرأي\")))\n",
        "axes[0].set_ylabel(get_display(arabic_reshaper.reshape(\"عدد التقييمات\")))\n",
        "axes[0].grid(False)\n",
        "\n",
        "# كتابة العدد فوق الأعمدة\n",
        "for bar in bars:\n",
        "    height = bar.get_height()\n",
        "    axes[0].text(bar.get_x() + bar.get_width()/2.0, height, f'{int(height)}', ha='center', va='bottom', fontsize=12)\n",
        "\n",
        "# --- رسم الدائرة ---\n",
        "pie_colors = [color_map[label] for label in labels]\n",
        "axes[1].pie(counts.values, labels=labels, autopct='%1.1f%%', colors=pie_colors)\n",
        "axes[1].set_title(get_display(arabic_reshaper.reshape(\"النسبة المئوية للآراء\")))\n",
        "\n",
        "plt.tight_layout()\n",
        "plt.show()"
      ]
    },
    {
      "cell_type": "markdown",
      "id": "8_GI2q541Z9X",
      "metadata": {
        "id": "8_GI2q541Z9X"
      },
      "source": [
        "made by : Salwa & Hanouf"
      ]
    }
  ],
  "metadata": {
    "accelerator": "GPU",
    "colab": {
      "gpuType": "T4",
      "provenance": [],
      "include_colab_link": true
    },
    "kernelspec": {
      "display_name": "Python 3",
      "name": "python3"
    },
    "language_info": {
      "name": "python"
    }
  },
  "nbformat": 4,
  "nbformat_minor": 5
}